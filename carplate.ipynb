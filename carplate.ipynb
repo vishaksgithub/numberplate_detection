{
 "cells": [
  {
   "cell_type": "code",
   "execution_count": 7,
   "metadata": {},
   "outputs": [],
   "source": [
    "import cv2\n"
   ]
  },
  {
   "cell_type": "code",
   "execution_count": 8,
   "metadata": {},
   "outputs": [],
   "source": [
    "import numpy as np"
   ]
  },
  {
   "cell_type": "code",
   "execution_count": 9,
   "metadata": {},
   "outputs": [],
   "source": [
    "import pytesseract"
   ]
  },
  {
   "cell_type": "code",
   "execution_count": 10,
   "metadata": {},
   "outputs": [],
   "source": [
    "pytesseract.pytesseract.tesseract_cmd=r\"c:\\Program Files\\Tesseract-OCR\\tesseract.exe\""
   ]
  },
  {
   "cell_type": "code",
   "execution_count": 11,
   "metadata": {},
   "outputs": [
    {
     "data": {
      "text/plain": [
       "< cv2.CascadeClassifier 00000283B870E7B0>"
      ]
     },
     "execution_count": 11,
     "metadata": {},
     "output_type": "execute_result"
    }
   ],
   "source": [
    "num_plate_cascade=cv2.CascadeClassifier(r\"D:\\DL projects\\car_numberplate\\haarcascade_russian_plate_number.xml\")\n",
    "num_plate_cascade"
   ]
  },
  {
   "cell_type": "code",
   "execution_count": 12,
   "metadata": {},
   "outputs": [],
   "source": [
    "def extract_numbers(img_filename):\n",
    "    img=cv2.imread(img_filename)\n",
    "    inverted_img=cv2.bitwise_not(img)\n",
    "    cv2.imwrite(\"temp\\inverted.jpg\",inverted_img)\n",
    "    img_gray=cv2.cvtColor(inverted_img,cv2.COLOR_RGB2GRAY)\n",
    "    thresh,binary_img=cv2.threshold(img_gray,3,21,cv2.THRESH_BINARY | cv2.THRESH_OTSU)\n",
    "    conv_img=cv2.cvtColor(inverted_img,cv2.COLOR_BGR2RGB)\n",
    "    nplate=num_plate_cascade.detectMultiScale(conv_img,scaleFactor=1.1,minNeighbors=4)\n",
    "    #width height and channel\n",
    "    for (x,y,w,h) in nplate:\n",
    "        a,b=(int(0.025*img.shape[0]),int(0.025*img.shape[1]))\n",
    "        plate=img[y+a:y+h-a,x+b:x+w-b,:]\n",
    "        #kernel is a black window\n",
    "        kernel=np.ones((1,1),np.uint8)\n",
    "        plate=cv2.dilate(plate,kernel,iterations=1)\n",
    "        plate=cv2.erode(plate,kernel,iterations=1)\n",
    "        gray_plate=cv2.cvtColor(plate,cv2.COLOR_BGR2GRAY)\n",
    "        (thresh,plate)=cv2.threshold(gray_plate,127,255,cv2.THRESH_BINARY)\n",
    "        #read the text on the plate\n",
    "        read=pytesseract.image_to_string(plate)\n",
    "        read= ''.join(e for e in read if e.isalnum())\n",
    "        stat=read[0:2]\n",
    "        cv2.rectangle(img,(x,y),(x+w,y+h),(51,51,255),2)\n",
    "        cv2.rectangle(img,(x,y-40),(x+w,y),(51,51,255),-1)\n",
    "        cv2.putText(img,read,(x,y-10),fontFace=cv2.FONT_HERSHEY_SIMPLEX,fontScale=0.7,color=(255,255,255),thickness=2)\n",
    "        \n",
    "\n",
    "        cv2.imshow(\"plate\",plate)\n",
    "        \n",
    "\n",
    "\n",
    "\n",
    "\n",
    "    cv2.imshow('Result',img)\n",
    "    cv2.waitKey()\n",
    "    cv2.destroyAllWindows()\n",
    "\n",
    "extract_numbers(\"carplate.jpg\")"
   ]
  }
 ],
 "metadata": {
  "kernelspec": {
   "display_name": "Python 3",
   "language": "python",
   "name": "python3"
  },
  "language_info": {
   "codemirror_mode": {
    "name": "ipython",
    "version": 3
   },
   "file_extension": ".py",
   "mimetype": "text/x-python",
   "name": "python",
   "nbconvert_exporter": "python",
   "pygments_lexer": "ipython3",
   "version": "3.11.0"
  }
 },
 "nbformat": 4,
 "nbformat_minor": 2
}
